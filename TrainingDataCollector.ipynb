{
 "cells": [
  {
   "cell_type": "code",
   "execution_count": 1,
   "metadata": {},
   "outputs": [],
   "source": [
    "import cv2\n",
    "from PIL import Image, ImageGrab\n",
    "import numpy as np"
   ]
  },
  {
   "cell_type": "code",
   "execution_count": 7,
   "metadata": {},
   "outputs": [],
   "source": [
    "vc = cv2.VideoCapture(0)\n",
    "\n",
    "if vc.isOpened(): # try to get the first frame\n",
    "    rval, frame = vc.read()\n",
    "else:\n",
    "    rval = False\n",
    "\n",
    "data_name = 'four'\n",
    "curr_phase = 'train'\n",
    "num_examples_needed = 100\n",
    "\n",
    "num_frames = 1\n",
    "while True and num_frames <= num_examples_needed:\n",
    "    rval, frame = vc.read()\n",
    "    key = cv2.waitKey(20)\n",
    "    cv2.rectangle(frame, (150, 150), (400, 400), (0, 255, 0), 2)\n",
    "    cv2.imshow(\"preview\", frame)\n",
    "    \n",
    "    if key == ord('y'):\n",
    "        frame = frame[152:398, 152:398]\n",
    "        frame = cv2.cvtColor(frame, cv2.COLOR_RGB2BGR)\n",
    "        img = Image.fromarray(np.uint8(frame)).convert('RGB')\n",
    "        img.save(f\"data\\\\{curr_phase}\\\\{data_name}\\\\{data_name}({num_frames}).png\")\n",
    "        num_frames+=1\n",
    "#         img = norm(trans(resize(img)))\n",
    "#         imshow(img)\n",
    "#         img = img.to(device)\n",
    "#         img = img.unsqueeze(0)\n",
    "#         _, preds = torch.max(model_conv(img), 1)\n",
    "#         print(class_names[preds])\n",
    "        \n",
    "    if key == 27:\n",
    "        break\n",
    "        \n",
    "vc.release()\n",
    "cv2.destroyAllWindows()"
   ]
  }
 ],
 "metadata": {
  "kernelspec": {
   "display_name": "Python 3",
   "language": "python",
   "name": "python3"
  },
  "language_info": {
   "codemirror_mode": {
    "name": "ipython",
    "version": 3
   },
   "file_extension": ".py",
   "mimetype": "text/x-python",
   "name": "python",
   "nbconvert_exporter": "python",
   "pygments_lexer": "ipython3",
   "version": "3.8.3"
  }
 },
 "nbformat": 4,
 "nbformat_minor": 4
}
